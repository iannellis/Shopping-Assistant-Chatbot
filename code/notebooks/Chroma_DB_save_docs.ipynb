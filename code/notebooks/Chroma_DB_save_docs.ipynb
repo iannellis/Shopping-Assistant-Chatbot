{
 "cells": [
  {
   "cell_type": "markdown",
   "metadata": {},
   "source": [
    "## Save text-only information into Chroma DB\n",
    "Note that this is just a hack to shore-up our problem of completely irrelevant results for text-only queries.\n",
    "\n",
    "We could continue to use BLIP-2 embeddings, but it only has a context length of 32 tokens. Therefore, Chroma's default embedding model (all-MiniLM-L6-v2) is better on that front, having a context length of 256 tokens. We will just throw the documents into the database and let it do its thing."
   ]
  },
  {
   "cell_type": "code",
   "execution_count": null,
   "metadata": {},
   "outputs": [],
   "source": [
    "import pandas as pd\n",
    "import chromadb"
   ]
  },
  {
   "cell_type": "code",
   "execution_count": null,
   "metadata": {},
   "outputs": [],
   "source": [
    "metadata_file = '/mnt/d/abo-dataset/abo-listings-final-draft.pkl'\n",
    "\n",
    "metadata = pd.read_pickle(metadata_file)\n",
    "\n",
    "# Removing item keywords because there can be a rediculous number of them\n",
    "metadata = metadata[['item_name', 'brand', 'model_name', 'model_year',\n",
    "                                'product_description', 'product_type', 'color',\n",
    "                                'fabric_type', 'style', 'material',\n",
    "                                'pattern', 'finish_type', 'bullet_point']]"
   ]
  },
  {
   "cell_type": "code",
   "execution_count": null,
   "metadata": {},
   "outputs": [],
   "source": [
    "def row_to_str(row):\n",
    "    row_filtered = row.dropna()\n",
    "    text = []\n",
    "    for row_item in row_filtered:\n",
    "        if isinstance(row_item, list):\n",
    "            for list_item in row_item:\n",
    "                text.append(str(list_item) + ';')\n",
    "        else:\n",
    "            text.append(str(row_item) + ';')\n",
    "    \n",
    "    return ' '.join(text).replace('\\n', ' ').replace('^', ' ').replace(',', ', ')"
   ]
  },
  {
   "cell_type": "code",
   "execution_count": null,
   "metadata": {},
   "outputs": [],
   "source": []
  }
 ],
 "metadata": {
  "kernelspec": {
   "display_name": "shoptalk-py3-12-PgppYsjg-py3.12",
   "language": "python",
   "name": "python3"
  },
  "language_info": {
   "name": "python",
   "version": "3.12.7"
  }
 },
 "nbformat": 4,
 "nbformat_minor": 2
}
