{
 "cells": [
  {
   "cell_type": "markdown",
   "metadata": {},
   "source": [
    "## Save text-only information into Chroma DB\n",
    "Note that this is just a hack to shore-up our problem of completely irrelevant results for text-only queries.\n",
    "\n",
    "We could continue to use BLIP-2 embeddings, but it only has a context length of 32 tokens. Therefore, Chroma's default embedding model (all-MiniLM-L6-v2) is better on that front, having a context length of 256 tokens. We will just throw the documents into the database and let it do its thing."
   ]
  },
  {
   "cell_type": "code",
   "execution_count": 1,
   "metadata": {},
   "outputs": [],
   "source": [
    "import pandas as pd\n",
    "import chromadb\n",
    "from tqdm import tqdm\n",
    "from icecream import ic"
   ]
  },
  {
   "cell_type": "code",
   "execution_count": 2,
   "metadata": {},
   "outputs": [],
   "source": [
    "metadata_file = '/mnt/d/abo-dataset/abo-listings-final-draft.pkl'\n",
    "\n",
    "metadata = pd.read_pickle(metadata_file)\n",
    "\n",
    "# Removing item keywords because there can be a rediculous number of them per item\n",
    "metadata = metadata[['item_name', 'brand', 'model_name', 'model_year',\n",
    "                                'product_description', 'product_type', 'color',\n",
    "                                'fabric_type', 'style', 'material',\n",
    "                                'pattern', 'finish_type', 'bullet_point']]"
   ]
  },
  {
   "cell_type": "code",
   "execution_count": 3,
   "metadata": {},
   "outputs": [],
   "source": [
    "def row_to_str(row):\n",
    "    row_filtered = row.dropna()\n",
    "    text = []\n",
    "    for row_item in row_filtered:\n",
    "        if isinstance(row_item, list):\n",
    "            for list_item in row_item:\n",
    "                text.append(str(list_item) + ';')\n",
    "        else:\n",
    "            text.append(str(row_item) + ';')\n",
    "    \n",
    "    return ' '.join(text).replace('\\n', ' ').replace('^', ' ').replace(',', ', ')"
   ]
  },
  {
   "cell_type": "code",
   "execution_count": 3,
   "metadata": {},
   "outputs": [],
   "source": [
    "client = chromadb.PersistentClient(path='/mnt/d/chroma')\n",
    "# doing pretrain"
   ]
  },
  {
   "cell_type": "code",
   "execution_count": 5,
   "metadata": {},
   "outputs": [],
   "source": [
    "collection = client.create_collection(name=\"text_only\")"
   ]
  },
  {
   "cell_type": "code",
   "execution_count": 6,
   "metadata": {},
   "outputs": [
    {
     "name": "stderr",
     "output_type": "stream",
     "text": [
      "100%|██████████| 121/121 [1:37:35<00:00, 48.39s/it]\n"
     ]
    }
   ],
   "source": [
    "# batch_size = client.get_max_batch_size()\n",
    "batch_size = 1000\n",
    "n_rows = len(metadata)\n",
    "n_batches = (n_rows-1)//batch_size + 1\n",
    "for i in tqdm(range(n_batches)):\n",
    "    start = i * batch_size\n",
    "    end = min((i+1) * batch_size, n_rows)\n",
    "    rows_to_add = []\n",
    "    max_len = 0\n",
    "    for i in range(start, end):\n",
    "        row_str = row_to_str(metadata.iloc[i])\n",
    "        rows_to_add.append(row_str)\n",
    "    collection.add(documents=rows_to_add, ids=list(metadata.index[start:end]))"
   ]
  },
  {
   "cell_type": "code",
   "execution_count": 4,
   "metadata": {},
   "outputs": [],
   "source": [
    "collection = client.get_collection(name=\"text_only\")"
   ]
  },
  {
   "cell_type": "code",
   "execution_count": null,
   "metadata": {},
   "outputs": [
    {
     "data": {
      "text/plain": [
       "{'ids': [['B07DJJ8R7M',\n",
       "   'B079144ZD2',\n",
       "   'B074DZBY3J',\n",
       "   'B074DY6W7W',\n",
       "   'B07913XHRP',\n",
       "   'B074DY5WM7',\n",
       "   'B079149QX6',\n",
       "   'B074F11NPB',\n",
       "   'B07914J25Y',\n",
       "   'B07913F3ZR']],\n",
       " 'embeddings': None,\n",
       " 'documents': [[\"Amazon Brand - Symbol Men's Black/Blue Mesh Sneakers-8 UK/India (42 EU) (AZ-YS-163B); Amazon Brand - Symbol; SHOES; Black/Blue; Knit; Textured; Material Type: Mesh; Lifestyle: Casual; Warranty Type: Manufacturer; Product warranty against manufacturing defects: 30 days; Full shoe has padding inside and therefore one size bigger is recommended for wider feet; Care Instructions: Allow your pair of shoes to air and de-odorize at regular basis; use shoe bags to prevent any stains or mildew; dust any dry dirt from the surface using a clean cloth; do not use polish or shiner;\",\n",
       "   \"Amazon Brand - Symbol Men's Black 2 Sneakers-10 (AZ-YS-201 C); Amazon Brand - Symbol; SHOES; Black 2; AZ-YS-201 C_Black_10; PU; Solid; Outer Material: Polyester; Lifestyle: Men's Casual Shoes; Product Type: Sneakers; Closure Type: Lace-Up; Toe Style: Closed Toe; Warranty Type: Manufacturer; Product warranty against manufacturing defects: 30 days; Care Instructions: Allow your pair of shoes to air and de-odorize at regular basis; Use Shoe bags to prevent any stains or mildew; Dust any dry dirt from the surface using a clean cloth; Do not use Polish or Shiner.;\",\n",
       "   \"Amazon Brand - Symbol Men's Sneakers 7 UK/India (41 EU)(AZ-SH-10D) Navy; Amazon Brand - Symbol; SHOES; Navy; AZ-SH-10D_Navy_7; Canvas; Solid; Outer Material: Canvas; Lifestyle: Men's Casual Shoes; Product Type: Sneakers; Shoe Width: Medium; Closure Type: Lace-Up; Toe Style: Closed Toe; Warranty Type: Manufacturer; Product warranty against manufacturing defects: 30 days; Care Instructions: Allow your pair of shoes to air and de-odorize at regular basis; Using a Shoe-horn to wear your shoes will avoid damage to the back of your shoes; Use Shoe bags to prevent any stains or mildew.;\",\n",
       "   \"Amazon Brand - Symbol Men's Black Sneakers-9 UK/India (43 EU)(AZ-SH-06F); Amazon Brand - Symbol; SHOES; Black; AZ-SH-06F_Black_9; Canvas; Solid; Outer Material: Canvas; Lifestyle: Men's Casual Shoes; Product Type: Sneakers; Shoe Width: Medium; Closure Type: Lace-Up; Toe Style: Closed Toe; Warranty Type: Manufacturer; Product warranty against manufacturing defects: 30 days; Care Instructions: Allow your pair of shoes to air and de-odorize at regular basis; Using a Shoe-horn to wear your shoes will avoid damage to the back of your shoes; Use Shoe bags to prevent any stains or mildew.;\",\n",
       "   \"Amazon Brand - Symbol Men's Black Sneakers-11 UK/India (46 EU) (AZ-YS-186 A); Amazon Brand - Symbol; SHOES; Black; low-top; Polyester; Outer Material: Polyester; Lifestyle: Men's Casual Shoes; Product Type: Sneakers; Shoe Width: Medium; Closure Type: Slip On; Toe Style: Closed Toe; Warranty Type: Manufacturer; Product warranty against manufacturing defects: 30 days; Care Instructions: Allow your pair of shoes to air and de-odorize at regular basis; Use Shoe bags to prevent any stains or mildew; Dust any dry dirt from the surface using a clean cloth; Do not use Polish or Shiner.;\",\n",
       "   \"Amazon Brand - Symbol Men's Sneakers 10 UK/India (44 EU)(AZ-SH-12A) Black; Amazon Brand - Symbol; SHOES; Black 2; AZ-SH-12A_Black_10; PU; Solid; Outer Material: Pu; Lifestyle: Men's Casual Shoes; Product Type: Sneakers; Closure Type: Lace-Up; Toe Style: Round Toe; Warranty Type: Seller; Product warranty against manufacturing defects: 30 days; Care Instructions: Allow your pair of shoes to air and de-odorize at regular basis; Use Shoe bags to prevent any stains or mildew; Dust any dry dirt from the surface using a clean cloth; Do not use Polish or Shiner.;\",\n",
       "   \"Amazon Brand - Symbol Men's Black White Polyester Sneakers-10 UK (AZ-YS-193 A); Amazon Brand - Symbol; SHOES; Black White; AZ-YS-193 A_Black_10; Knit; Solid; Outer Material: Polyester; Lifestyle: Men's Casual Shoes; Product Type: Sneakers; Shoe Width: Medium; Closure Type: Lace-Up; Toe Style: Closed Toe; Warranty Type: Manufacturer; Product warranty against manufacturing defects: 30 days; Care Instructions: Allow your pair of shoes to air and de-odorize at regular basis; Use Shoe bags to prevent any stains or mildew; Dust any dry dirt from the surface using a clean cloth; Do not use Polish or Shiner.;\",\n",
       "   \"Amazon Brand - Symbol Men's Black/Grey Sneakers - 8 UK/India (42 EU)(AZ-YS-48B); Amazon Brand - Symbol; SHOES; Black/Grey; Polyester; Outer Material: Polyester; Lifestyle: Men's Casual Shoes; Product Type: Sneakers; Shoe Width: Medium; Closure Type: Slip On; Toe Style: Closed Toe; Warranty Type: Manufacturer; Product warranty against manufacturing defects: 30 days; Care Instructions: Allow your pair of shoes to air and de-odorize at regular basis; Use Shoe bags to prevent any stains or mildew; Dust any dry dirt from the surface using a clean cloth; Do not use Polish or Shiner.;\",\n",
       "   \"Amazon Brand - Symbol Men's Black Sneakers-7 UK/India (40.5 EU)(AZ-YS-188 A); Amazon Brand - Symbol; SHOES; Black; AZ-YS-188 A_Black_7; Synthetic; Material: Synthetic; Lifestyle: Casual; Product Type: Men's Sneakers; Closure Type: Lace-Up; Warranty Type: Manufacturer; Product warranty against manufacturing defects: 0 days; Care Instructions: Allow your pair of shoes to air and de-odorize at regular basis; use shoe bags to prevent any stains or mildew; dust any dry dirt from the surface using a clean cloth; do not use polish or shiner;\",\n",
       "   \"Amazon Brand - Symbol Men's Black Polyester Sneakers-7 (AZ-YS-203 C); Amazon Brand - Symbol; SHOES; Black; AZ-YS-203 C_Black_7; Mesh; Solid; Outer Material: Polyester; Lifestyle: Men's Casual Shoes; Product Type: Sneakers; Shoe Width: Medium; Closure Type: Lace-Up; Toe Style: Closed Toe; Warranty Type: Manufacturer; Product warranty against manufacturing defects: 30 days; Care Instructions: Allow your pair of shoes to air and de-odorize at regular basis; Use Shoe bags to prevent any stains or mildew; Dust any dry dirt from the surface using a clean cloth; Do not use Polish or Shiner.;\"]],\n",
       " 'uris': None,\n",
       " 'data': None,\n",
       " 'metadatas': [[None, None, None, None, None, None, None, None, None, None]],\n",
       " 'distances': [[0.7481168508529663,\n",
       "   0.7491413354873657,\n",
       "   0.749607264995575,\n",
       "   0.7555336356163025,\n",
       "   0.7562698721885681,\n",
       "   0.7565948963165283,\n",
       "   0.7570532560348511,\n",
       "   0.7587449550628662,\n",
       "   0.7596043348312378,\n",
       "   0.7607537508010864]],\n",
       " 'included': [<IncludeEnum.distances: 'distances'>,\n",
       "  <IncludeEnum.documents: 'documents'>,\n",
       "  <IncludeEnum.metadatas: 'metadatas'>]}"
      ]
     },
     "execution_count": 18,
     "metadata": {},
     "output_type": "execute_result"
    }
   ],
   "source": [
    "collection.query(query_texts=[\"shoes\"], )"
   ]
  },
  {
   "cell_type": "code",
   "execution_count": null,
   "metadata": {},
   "outputs": [],
   "source": []
  }
 ],
 "metadata": {
  "kernelspec": {
   "display_name": "shoptalk-py3-12-PgppYsjg-py3.12",
   "language": "python",
   "name": "python3"
  },
  "language_info": {
   "codemirror_mode": {
    "name": "ipython",
    "version": 3
   },
   "file_extension": ".py",
   "mimetype": "text/x-python",
   "name": "python",
   "nbconvert_exporter": "python",
   "pygments_lexer": "ipython3",
   "version": "3.12.7"
  }
 },
 "nbformat": 4,
 "nbformat_minor": 2
}
