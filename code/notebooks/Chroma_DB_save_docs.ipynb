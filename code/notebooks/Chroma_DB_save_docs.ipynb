{
 "cells": [
  {
   "cell_type": "markdown",
   "metadata": {},
   "source": [
    "## Save text-only information into Chroma DB\n",
    "Note that this is just a hack to shore-up our problem of completely irrelevant results for text-only queries.\n",
    "\n",
    "We could continue to use BLIP-2 embeddings, but it only has a context length of 32 tokens. Therefore, Chroma's default embedding model (all-MiniLM-L6-v2) is better on that front, having a context length of 256 tokens. We will just throw the documents into the database and let it do its thing."
   ]
  },
  {
   "cell_type": "code",
   "execution_count": 1,
   "metadata": {},
   "outputs": [],
   "source": [
    "import pandas as pd\n",
    "import chromadb\n",
    "from tqdm import tqdm\n",
    "from icecream import ic"
   ]
  },
  {
   "cell_type": "markdown",
   "metadata": {},
   "source": [
    "Load the metadata and keep only the relevant rows in a useful order (order of precedence)."
   ]
  },
  {
   "cell_type": "code",
   "execution_count": 2,
   "metadata": {},
   "outputs": [],
   "source": [
    "metadata_file = '/mnt/d/abo-dataset/abo-listings-final-draft.pkl'\n",
    "metadata = pd.read_pickle(metadata_file)\n",
    "\n",
    "# Removing item keywords because there can be a rediculous number of them per item\n",
    "metadata = metadata[['item_name', 'brand', 'model_name', 'model_year',\n",
    "                                'product_description', 'product_type', 'color',\n",
    "                                'fabric_type', 'style', 'material',\n",
    "                                'pattern', 'finish_type', 'bullet_point']]"
   ]
  },
  {
   "cell_type": "markdown",
   "metadata": {},
   "source": [
    "Convert a row of metadata to a string so it's in a useful form for creating the embedding."
   ]
  },
  {
   "cell_type": "code",
   "execution_count": 3,
   "metadata": {},
   "outputs": [],
   "source": [
    "def row_to_str(row):\n",
    "    row_filtered = row.dropna()\n",
    "    text = []\n",
    "    for row_item in row_filtered:\n",
    "        if isinstance(row_item, list):\n",
    "            for list_item in row_item:\n",
    "                text.append(str(list_item) + ';')\n",
    "        else:\n",
    "            text.append(str(row_item) + ';')\n",
    "    \n",
    "    return ' '.join(text).replace('\\n', ' ').replace('^', ' ').replace(',', ', ')"
   ]
  },
  {
   "cell_type": "code",
   "execution_count": 3,
   "metadata": {},
   "outputs": [],
   "source": [
    "client = chromadb.PersistentClient(path='/mnt/d/chroma')"
   ]
  },
  {
   "cell_type": "code",
   "execution_count": 5,
   "metadata": {},
   "outputs": [],
   "source": [
    "collection = client.create_collection(name=\"text_only\")"
   ]
  },
  {
   "cell_type": "markdown",
   "metadata": {},
   "source": [
    "Save the rows in batches of 1000 so we don't run out of memory and don't exceed the limit of the underlying SQLite database."
   ]
  },
  {
   "cell_type": "code",
   "execution_count": 6,
   "metadata": {},
   "outputs": [
    {
     "name": "stderr",
     "output_type": "stream",
     "text": [
      "100%|██████████| 121/121 [1:37:35<00:00, 48.39s/it]\n"
     ]
    }
   ],
   "source": [
    "batch_size = 1000\n",
    "n_rows = len(metadata)\n",
    "n_batches = (n_rows-1)//batch_size + 1\n",
    "for i in tqdm(range(n_batches)):\n",
    "    start = i * batch_size\n",
    "    end = min((i+1) * batch_size, n_rows)\n",
    "    rows_to_add = []\n",
    "    max_len = 0\n",
    "    for i in range(start, end):\n",
    "        row_str = row_to_str(metadata.iloc[i])\n",
    "        rows_to_add.append(row_str)\n",
    "    collection.add(documents=rows_to_add, ids=list(metadata.index[start:end]))"
   ]
  }
 ],
 "metadata": {
  "kernelspec": {
   "display_name": "shoptalk-py3-12-PgppYsjg-py3.12",
   "language": "python",
   "name": "python3"
  },
  "language_info": {
   "codemirror_mode": {
    "name": "ipython",
    "version": 3
   },
   "file_extension": ".py",
   "mimetype": "text/x-python",
   "name": "python",
   "nbconvert_exporter": "python",
   "pygments_lexer": "ipython3",
   "version": "3.12.7"
  }
 },
 "nbformat": 4,
 "nbformat_minor": 2
}
