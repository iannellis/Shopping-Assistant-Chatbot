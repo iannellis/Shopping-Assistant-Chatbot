{
 "cells": [
  {
   "cell_type": "markdown",
   "metadata": {},
   "source": [
    "## Save text-only information into Chroma DB\n",
    "Note that this is just a hack to shore-up our problem of completely irrelevant results for text-only queries.\n",
    "\n",
    "We could continue to use BLIP-2 embeddings, but it only has a context length of 32 tokens. Therefore, Chroma's default embedding model (all-MiniLM-L6-v2) is better on that front, having a context length of 256 tokens. We will just throw the documents into the database and let it do its thing."
   ]
  },
  {
   "cell_type": "code",
   "execution_count": 1,
   "metadata": {},
   "outputs": [],
   "source": [
    "import pandas as pd\n",
    "import chromadb\n",
    "from tqdm import tqdm\n",
    "from icecream import ic"
   ]
  },
  {
   "cell_type": "code",
   "execution_count": 2,
   "metadata": {},
   "outputs": [],
   "source": [
    "metadata_file = 'D:/abo-dataset/abo-listings-final-draft.pkl'\n",
    "\n",
    "metadata = pd.read_pickle(metadata_file)\n",
    "\n",
    "# Removing item keywords because there can be a rediculous number of them per item\n",
    "metadata = metadata[['item_name', 'brand', 'model_name', 'model_year',\n",
    "                                'product_description', 'product_type', 'color',\n",
    "                                'fabric_type', 'style', 'material',\n",
    "                                'pattern', 'finish_type', 'bullet_point']]"
   ]
  },
  {
   "cell_type": "code",
   "execution_count": 3,
   "metadata": {},
   "outputs": [],
   "source": [
    "def row_to_str(row):\n",
    "    row_filtered = row.dropna()\n",
    "    text = []\n",
    "    for row_item in row_filtered:\n",
    "        if isinstance(row_item, list):\n",
    "            for list_item in row_item:\n",
    "                text.append(str(list_item) + ';')\n",
    "        else:\n",
    "            text.append(str(row_item) + ';')\n",
    "    \n",
    "    return ' '.join(text).replace('\\n', ' ').replace('^', ' ').replace(',', ', ')"
   ]
  },
  {
   "cell_type": "code",
   "execution_count": 4,
   "metadata": {},
   "outputs": [],
   "source": [
    "client = chromadb.PersistentClient(path='D:/chroma')"
   ]
  },
  {
   "cell_type": "code",
   "execution_count": 5,
   "metadata": {},
   "outputs": [
    {
     "ename": "",
     "evalue": "",
     "output_type": "error",
     "traceback": [
      "\u001b[1;31mThe Kernel crashed while executing code in the current cell or a previous cell. \n",
      "\u001b[1;31mPlease review the code in the cell(s) to identify a possible cause of the failure. \n",
      "\u001b[1;31mClick <a href='https://aka.ms/vscodeJupyterKernelCrash'>here</a> for more info. \n",
      "\u001b[1;31mView Jupyter <a href='command:jupyter.viewOutput'>log</a> for further details."
     ]
    }
   ],
   "source": [
    "collection = client.create_collection(name=\"text_only\")"
   ]
  },
  {
   "cell_type": "code",
   "execution_count": null,
   "metadata": {},
   "outputs": [
    {
     "name": "stderr",
     "output_type": "stream",
     "text": [
      "  0%|          | 4/6006 [00:01<45:39,  2.19it/s]"
     ]
    }
   ],
   "source": [
    "# batch_size = client.get_max_batch_size()\n",
    "batch_size = 100\n",
    "n_rows = len(metadata)\n",
    "n_batches = (n_rows-1)//batch_size + 1\n",
    "for i in tqdm(range(n_batches)):\n",
    "    start = i * batch_size\n",
    "    end = min((i+1) * batch_size, n_rows)\n",
    "    rows_to_add = []\n",
    "    max_len = 0\n",
    "    for i in range(start, end):\n",
    "        row_str = row_to_str(metadata.iloc[i])\n",
    "        # max_len = max(max_len, len(row_str.split()))\n",
    "        rows_to_add.append(row_str)\n",
    "    collection.add(documents=rows_to_add, ids=list(metadata.index[start:end]))"
   ]
  },
  {
   "cell_type": "code",
   "execution_count": null,
   "metadata": {},
   "outputs": [],
   "source": []
  }
 ],
 "metadata": {
  "kernelspec": {
   "display_name": "shoptalk-py3-12-Bqkf-scA-py3.12",
   "language": "python",
   "name": "python3"
  },
  "language_info": {
   "codemirror_mode": {
    "name": "ipython",
    "version": 3
   },
   "file_extension": ".py",
   "mimetype": "text/x-python",
   "name": "python",
   "nbconvert_exporter": "python",
   "pygments_lexer": "ipython3",
   "version": "3.12.7"
  }
 },
 "nbformat": 4,
 "nbformat_minor": 2
}
