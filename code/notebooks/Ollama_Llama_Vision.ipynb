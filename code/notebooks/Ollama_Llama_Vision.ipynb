{
 "cells": [
  {
   "cell_type": "markdown",
   "metadata": {},
   "source": [
    "There is a question about the validity of the data in the dataset. If we can easily check that validity using a model such as llama-3.2-vision, we should do so.\n",
    "\n",
    "This notebook takes the model directly from HuggingFace."
   ]
  },
  {
   "cell_type": "code",
   "execution_count": 3,
   "metadata": {},
   "outputs": [],
   "source": [
    "import ollama"
   ]
  },
  {
   "cell_type": "code",
   "execution_count": 5,
   "metadata": {},
   "outputs": [
    {
     "name": "stdout",
     "output_type": "stream",
     "text": [
      "The main subject of this image is an off-white or cream-colored sofa, which appears to be made of fabric and features black legs. The sofa is positioned against the wall in the middle of the room, creating a cozy and inviting atmosphere.\n",
      "\n",
      "The sofa's design is sleek and modern, with clean lines and minimal ornamentation. It has two cushions on each side, providing ample seating for multiple people. The upholstery is smooth to the touch, suggesting that it may be made from a high-quality fabric such as velvet or linen.\n",
      "\n",
      "In addition to its aesthetic appeal, the sofa also appears to be comfortable and functional. Its low profile makes it easy to get in and out of, while its sturdy legs provide stability and support. Overall, the sofa is a well-designed piece of furniture that would complement any living room decor.\n"
     ]
    }
   ],
   "source": [
    "response = ollama.chat(\n",
    "    model='llama3.2-vision',\n",
    "    messages=[{\n",
    "        'role': 'user',\n",
    "        'content': 'Provide a brief description of the central object of this image:',\n",
    "        'images': ['../test_image.jpg']\n",
    "    }]\n",
    ")\n",
    "\n",
    "print(response['message']['content'])"
   ]
  },
  {
   "cell_type": "code",
   "execution_count": null,
   "metadata": {},
   "outputs": [],
   "source": []
  }
 ],
 "metadata": {
  "kernelspec": {
   "display_name": "capstone_project-ICngHUmi-py3.12",
   "language": "python",
   "name": "python3"
  },
  "language_info": {
   "codemirror_mode": {
    "name": "ipython",
    "version": 3
   },
   "file_extension": ".py",
   "mimetype": "text/x-python",
   "name": "python",
   "nbconvert_exporter": "python",
   "pygments_lexer": "ipython3",
   "version": "3.12.7"
  }
 },
 "nbformat": 4,
 "nbformat_minor": 2
}
