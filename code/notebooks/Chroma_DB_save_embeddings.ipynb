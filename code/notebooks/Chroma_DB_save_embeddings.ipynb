{
 "cells": [
  {
   "cell_type": "markdown",
   "metadata": {},
   "source": [
    "## Save embeddings into a Chroma DB\n",
    "\n",
    "We save the image_id and item_id as metadata for easy access later.\n",
    "\n",
    "Uses Python 3.12 environment locally."
   ]
  },
  {
   "cell_type": "code",
   "execution_count": 1,
   "metadata": {},
   "outputs": [],
   "source": [
    "import chromadb\n",
    "import pandas as pd\n",
    "import numpy as np\n",
    "from tqdm import tqdm"
   ]
  },
  {
   "cell_type": "markdown",
   "metadata": {},
   "source": [
    "We have 3 versions of the BLIP-2 model, so we have separate embeddings for each of them."
   ]
  },
  {
   "cell_type": "code",
   "execution_count": 2,
   "metadata": {},
   "outputs": [],
   "source": [
    "blip_2_model = 'gs'"
   ]
  },
  {
   "cell_type": "code",
   "execution_count": 3,
   "metadata": {},
   "outputs": [],
   "source": [
    "client = chromadb.PersistentClient(path='D:/chroma')"
   ]
  },
  {
   "cell_type": "code",
   "execution_count": 4,
   "metadata": {},
   "outputs": [],
   "source": [
    "collection = client.create_collection(name=\"blip_2_\"+blip_2_model)"
   ]
  },
  {
   "cell_type": "markdown",
   "metadata": {},
   "source": [
    "Load the embeddings created from the ABO dataset (code in Blip-2_embeddings)"
   ]
  },
  {
   "cell_type": "code",
   "execution_count": 6,
   "metadata": {},
   "outputs": [
    {
     "data": {
      "text/html": [
       "<div>\n",
       "<style scoped>\n",
       "    .dataframe tbody tr th:only-of-type {\n",
       "        vertical-align: middle;\n",
       "    }\n",
       "\n",
       "    .dataframe tbody tr th {\n",
       "        vertical-align: top;\n",
       "    }\n",
       "\n",
       "    .dataframe thead th {\n",
       "        text-align: right;\n",
       "    }\n",
       "</style>\n",
       "<table border=\"1\" class=\"dataframe\">\n",
       "  <thead>\n",
       "    <tr style=\"text-align: right;\">\n",
       "      <th></th>\n",
       "      <th>image_id</th>\n",
       "      <th>item_id</th>\n",
       "      <th>embedding</th>\n",
       "    </tr>\n",
       "  </thead>\n",
       "  <tbody>\n",
       "    <tr>\n",
       "      <th>0</th>\n",
       "      <td>81-DuD5XzmL</td>\n",
       "      <td>B0857LSVB7</td>\n",
       "      <td>[0.07762626, -0.5834237, 0.07436231, -1.293449...</td>\n",
       "    </tr>\n",
       "    <tr>\n",
       "      <th>1</th>\n",
       "      <td>61+woWTqkwL</td>\n",
       "      <td>B0857LSVB7</td>\n",
       "      <td>[-0.5496451, -0.5162424, -0.2742843, 0.2406437...</td>\n",
       "    </tr>\n",
       "    <tr>\n",
       "      <th>2</th>\n",
       "      <td>61SE4RTPjdL</td>\n",
       "      <td>B0857LSVB7</td>\n",
       "      <td>[-0.59508175, -0.39230114, -0.30060068, 0.3181...</td>\n",
       "    </tr>\n",
       "    <tr>\n",
       "      <th>3</th>\n",
       "      <td>81YCp3dcurL</td>\n",
       "      <td>B07C5FF8QS</td>\n",
       "      <td>[0.6407373, -0.6000935, 0.81145144, -1.0256921...</td>\n",
       "    </tr>\n",
       "    <tr>\n",
       "      <th>4</th>\n",
       "      <td>817GQ6xx-QL</td>\n",
       "      <td>B07C5FF8QS</td>\n",
       "      <td>[1.1870946, -0.38225535, 0.66963655, -0.698766...</td>\n",
       "    </tr>\n",
       "    <tr>\n",
       "      <th>...</th>\n",
       "      <td>...</td>\n",
       "      <td>...</td>\n",
       "      <td>...</td>\n",
       "    </tr>\n",
       "    <tr>\n",
       "      <th>571191</th>\n",
       "      <td>NaN</td>\n",
       "      <td>B08DKX14VY</td>\n",
       "      <td>[-0.3429492, -0.5522551, 0.065248385, -0.11148...</td>\n",
       "    </tr>\n",
       "    <tr>\n",
       "      <th>571192</th>\n",
       "      <td>NaN</td>\n",
       "      <td>B08BJXKDD2</td>\n",
       "      <td>[0.19367197, 0.24559124, 0.20168683, 0.0394387...</td>\n",
       "    </tr>\n",
       "    <tr>\n",
       "      <th>571193</th>\n",
       "      <td>NaN</td>\n",
       "      <td>B08FMKVLJ3</td>\n",
       "      <td>[0.013649158, -0.34035835, 0.011010983, 0.0603...</td>\n",
       "    </tr>\n",
       "    <tr>\n",
       "      <th>571194</th>\n",
       "      <td>NaN</td>\n",
       "      <td>B08DJXR1LR</td>\n",
       "      <td>[0.2649222, -0.09033289, 0.21277864, -0.189302...</td>\n",
       "    </tr>\n",
       "    <tr>\n",
       "      <th>571195</th>\n",
       "      <td>NaN</td>\n",
       "      <td>B08B1GPF45</td>\n",
       "      <td>[0.14675595, -0.16164577, -0.13391331, -0.2768...</td>\n",
       "    </tr>\n",
       "  </tbody>\n",
       "</table>\n",
       "<p>571196 rows × 3 columns</p>\n",
       "</div>"
      ],
      "text/plain": [
       "           image_id     item_id  \\\n",
       "0       81-DuD5XzmL  B0857LSVB7   \n",
       "1       61+woWTqkwL  B0857LSVB7   \n",
       "2       61SE4RTPjdL  B0857LSVB7   \n",
       "3       81YCp3dcurL  B07C5FF8QS   \n",
       "4       817GQ6xx-QL  B07C5FF8QS   \n",
       "...             ...         ...   \n",
       "571191          NaN  B08DKX14VY   \n",
       "571192          NaN  B08BJXKDD2   \n",
       "571193          NaN  B08FMKVLJ3   \n",
       "571194          NaN  B08DJXR1LR   \n",
       "571195          NaN  B08B1GPF45   \n",
       "\n",
       "                                                embedding  \n",
       "0       [0.07762626, -0.5834237, 0.07436231, -1.293449...  \n",
       "1       [-0.5496451, -0.5162424, -0.2742843, 0.2406437...  \n",
       "2       [-0.59508175, -0.39230114, -0.30060068, 0.3181...  \n",
       "3       [0.6407373, -0.6000935, 0.81145144, -1.0256921...  \n",
       "4       [1.1870946, -0.38225535, 0.66963655, -0.698766...  \n",
       "...                                                   ...  \n",
       "571191  [-0.3429492, -0.5522551, 0.065248385, -0.11148...  \n",
       "571192  [0.19367197, 0.24559124, 0.20168683, 0.0394387...  \n",
       "571193  [0.013649158, -0.34035835, 0.011010983, 0.0603...  \n",
       "571194  [0.2649222, -0.09033289, 0.21277864, -0.189302...  \n",
       "571195  [0.14675595, -0.16164577, -0.13391331, -0.2768...  \n",
       "\n",
       "[571196 rows x 3 columns]"
      ]
     },
     "execution_count": 6,
     "metadata": {},
     "output_type": "execute_result"
    }
   ],
   "source": [
    "embeddings_df = pd.read_pickle('D:/embeddings/embeddings_'+blip_2_model+'.pkl')\n",
    "embeddings_df"
   ]
  },
  {
   "cell_type": "markdown",
   "metadata": {},
   "source": [
    "Chroma has a batch size limit due to the underlying sqlite database. Therefore, we need to add the embeddings in batches."
   ]
  },
  {
   "cell_type": "code",
   "execution_count": 6,
   "metadata": {},
   "outputs": [
    {
     "name": "stderr",
     "output_type": "stream",
     "text": [
      "100%|██████████| 105/105 [10:20<00:00,  5.91s/it]\n"
     ]
    }
   ],
   "source": [
    "batch_size = client.get_max_batch_size()\n",
    "n_rows = len(embeddings_df)\n",
    "n_batches = (n_rows-1)//batch_size + 1\n",
    "for i in tqdm(range(n_batches)):\n",
    "    start = i * batch_size\n",
    "    end = min((i+1) * batch_size, n_rows)\n",
    "    embeddings = np.stack(embeddings_df.loc[start:end-1, 'embedding'])\n",
    "    metadatas = []\n",
    "    for i in range(start, end):\n",
    "        image_id = embeddings_df.loc[i, 'image_id']\n",
    "        item_id = embeddings_df.loc[i, 'item_id']\n",
    "        metadatas.append({'image_id': image_id, 'item_id': item_id})\n",
    "    collection.add(embeddings=embeddings, metadatas=metadatas, ids=[str(i) for i in range(start, end)])"
   ]
  },
  {
   "cell_type": "code",
   "execution_count": 4,
   "metadata": {},
   "outputs": [],
   "source": [
    "collection = client.get_collection(name=\"blip_2_\"+blip_2_model)"
   ]
  },
  {
   "cell_type": "code",
   "execution_count": 11,
   "metadata": {},
   "outputs": [
    {
     "data": {
      "text/plain": [
       "{'ids': [['571195',\n",
       "   '571094',\n",
       "   '571178',\n",
       "   '571194',\n",
       "   '571175',\n",
       "   '571164',\n",
       "   '571115',\n",
       "   '571098',\n",
       "   '571134',\n",
       "   '571092',\n",
       "   '571062',\n",
       "   '571181',\n",
       "   '571113',\n",
       "   '571090',\n",
       "   '571099']],\n",
       " 'embeddings': None,\n",
       " 'documents': None,\n",
       " 'uris': None,\n",
       " 'data': None,\n",
       " 'metadatas': [[{'item_id': 'B08B1GPF45'},\n",
       "   {'item_id': 'B089ZRYCT9'},\n",
       "   {'item_id': 'B08B1832RW'},\n",
       "   {'item_id': 'B08DJXR1LR'},\n",
       "   {'item_id': 'B08B13CW15'},\n",
       "   {'item_id': 'B08DKVQRFJ'},\n",
       "   {'item_id': 'B08BJX637R'},\n",
       "   {'item_id': 'B08BJXS9KY'},\n",
       "   {'item_id': 'B08DTQVN7R'},\n",
       "   {'item_id': 'B08BJXC3DP'},\n",
       "   {'item_id': 'B08B12JRW4'},\n",
       "   {'item_id': 'B08BJXKCCL'},\n",
       "   {'item_id': 'B08DKT7QK3'},\n",
       "   {'item_id': 'B08DKVNXK8'},\n",
       "   {'item_id': 'B08FQYHVNJ'}]],\n",
       " 'distances': [[0.0,\n",
       "   10.761358261108398,\n",
       "   16.386934499279306,\n",
       "   22.819978855059706,\n",
       "   23.64416374343949,\n",
       "   24.726531129690464,\n",
       "   25.441836602259766,\n",
       "   26.24988555908203,\n",
       "   26.405441758722727,\n",
       "   26.522689819335938,\n",
       "   26.619218826293945,\n",
       "   27.60114738046725,\n",
       "   29.117994864930147,\n",
       "   29.151737213134766,\n",
       "   29.541845321655273]],\n",
       " 'included': [<IncludeEnum.distances: 'distances'>,\n",
       "  <IncludeEnum.metadatas: 'metadatas'>]}"
      ]
     },
     "execution_count": 11,
     "metadata": {},
     "output_type": "execute_result"
    }
   ],
   "source": [
    "embedding_test = embeddings_df.loc[571195, 'embedding']\n",
    "collection.query(query_embeddings=[embedding_test], include=[\"metadatas\", \"distances\"], n_results=15)"
   ]
  }
 ],
 "metadata": {
  "kernelspec": {
   "display_name": "shoptalk-py3-12-PgppYsjg-py3.12",
   "language": "python",
   "name": "python3"
  },
  "language_info": {
   "codemirror_mode": {
    "name": "ipython",
    "version": 3
   },
   "file_extension": ".py",
   "mimetype": "text/x-python",
   "name": "python",
   "nbconvert_exporter": "python",
   "pygments_lexer": "ipython3",
   "version": "3.12.7"
  }
 },
 "nbformat": 4,
 "nbformat_minor": 2
}
