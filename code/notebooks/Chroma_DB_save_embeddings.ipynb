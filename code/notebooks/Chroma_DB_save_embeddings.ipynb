{
 "cells": [
  {
   "cell_type": "markdown",
   "metadata": {},
   "source": [
    "## Save embeddings into a Chroma DB\n",
    "\n",
    "We save the image_id and item_id as metadata for easy access later.\n",
    "\n",
    "Uses Python 3.12 environment locally."
   ]
  },
  {
   "cell_type": "code",
   "execution_count": 1,
   "metadata": {},
   "outputs": [],
   "source": [
    "import chromadb\n",
    "import pandas as pd\n",
    "import numpy as np\n",
    "from tqdm import tqdm\n",
    "import os"
   ]
  },
  {
   "cell_type": "markdown",
   "metadata": {},
   "source": [
    "We have 3 versions of the BLIP-2 model, so we have separate embeddings for each of them."
   ]
  },
  {
   "cell_type": "code",
   "execution_count": 2,
   "metadata": {},
   "outputs": [],
   "source": [
    "blip_2_model = 'gs'"
   ]
  },
  {
   "cell_type": "code",
   "execution_count": 3,
   "metadata": {},
   "outputs": [],
   "source": [
    "client = chromadb.PersistentClient(path='D:/chroma')"
   ]
  },
  {
   "cell_type": "code",
   "execution_count": 4,
   "metadata": {},
   "outputs": [],
   "source": [
    "collection = client.create_collection(name=\"blip_2_\"+blip_2_model+'_multimodal')"
   ]
  },
  {
   "cell_type": "markdown",
   "metadata": {},
   "source": [
    "Chroma has a batch size limit due to the underlying sqlite database. Therefore, we need to add the embeddings in batches."
   ]
  },
  {
   "cell_type": "code",
   "execution_count": 5,
   "metadata": {},
   "outputs": [],
   "source": [
    "def embed_multimodal(collection, file, start_id):\n",
    "    batch_size = 4000\n",
    "    embeddings_df = pd.read_pickle(file)\n",
    "    n_rows = len(embeddings_df)\n",
    "    n_batches = (n_rows-1)//batch_size + 1\n",
    "    for i in tqdm(range(n_batches)):\n",
    "        start = i * batch_size\n",
    "        end = min((i+1) * batch_size, n_rows)\n",
    "        embeddings = np.stack(embeddings_df.iloc[start:end]['embedding'])\n",
    "        embeddings = embeddings[:,:16,:]\n",
    "        embeddings = list(embeddings.reshape((len(embeddings), -1)))\n",
    "        metadatas = []\n",
    "        for i in range(start, end):\n",
    "            image_id = embeddings_df.loc[i, 'image_id']\n",
    "            item_id = embeddings_df.loc[i, 'item_id']\n",
    "            metadatas.append({'image_id': image_id, 'item_id': item_id})\n",
    "        collection.add(embeddings=embeddings, metadatas=metadatas, ids=[str(i + start_id) for i in range(start, end)])\n",
    "    return end + start_id"
   ]
  },
  {
   "cell_type": "markdown",
   "metadata": {},
   "source": [
    "Load the embeddings created from the ABO dataset (code in Blip-2_embeddings)"
   ]
  },
  {
   "cell_type": "code",
   "execution_count": null,
   "metadata": {},
   "outputs": [
    {
     "name": "stdout",
     "output_type": "stream",
     "text": [
      "embeddings_gs_multimodal_1.pkl\n"
     ]
    },
    {
     "name": "stderr",
     "output_type": "stream",
     "text": [
      "  0%|          | 0/1 [00:00<?, ?it/s]"
     ]
    },
    {
     "name": "stderr",
     "output_type": "stream",
     "text": [
      "100%|██████████| 1/1 [00:00<00:00, 10.20it/s]"
     ]
    },
    {
     "name": "stdout",
     "output_type": "stream",
     "text": [
      "embeddings_gs_multimodal_1000.pkl\n"
     ]
    },
    {
     "name": "stderr",
     "output_type": "stream",
     "text": [
      "\n",
      "100%|██████████| 16/16 [01:20<00:00,  5.03s/it]\n"
     ]
    },
    {
     "name": "stdout",
     "output_type": "stream",
     "text": [
      "embeddings_gs_multimodal_1999.pkl\n"
     ]
    },
    {
     "name": "stderr",
     "output_type": "stream",
     "text": [
      "100%|██████████| 16/16 [01:50<00:00,  6.88s/it]\n"
     ]
    },
    {
     "name": "stdout",
     "output_type": "stream",
     "text": [
      "embeddings_gs_multimodal_2998.pkl\n"
     ]
    },
    {
     "name": "stderr",
     "output_type": "stream",
     "text": [
      "100%|██████████| 16/16 [02:00<00:00,  7.52s/it]\n"
     ]
    },
    {
     "name": "stdout",
     "output_type": "stream",
     "text": [
      "embeddings_gs_multimodal_3997.pkl\n"
     ]
    },
    {
     "name": "stderr",
     "output_type": "stream",
     "text": [
      "100%|██████████| 16/16 [02:16<00:00,  8.54s/it]\n"
     ]
    },
    {
     "name": "stdout",
     "output_type": "stream",
     "text": [
      "embeddings_gs_multimodal_4996.pkl\n"
     ]
    },
    {
     "name": "stderr",
     "output_type": "stream",
     "text": [
      " 75%|███████▌  | 12/16 [01:51<00:37,  9.38s/it]Exception occurred invoking consumer for subscription c0d234433768408ebddb66fd66ab3e32to topic persistent://default/default/fb9543c3-3766-4e62-9735-064ec10e5114 \n",
      " 81%|████████▏ | 13/16 [01:58<00:25,  8.59s/it]Exception occurred invoking consumer for subscription c0d234433768408ebddb66fd66ab3e32to topic persistent://default/default/fb9543c3-3766-4e62-9735-064ec10e5114 Index with capacity 100 and 100 current entries cannot add 1 records\n",
      " 88%|████████▊ | 14/16 [02:03<00:14,  7.42s/it]Exception occurred invoking consumer for subscription c0d234433768408ebddb66fd66ab3e32to topic persistent://default/default/fb9543c3-3766-4e62-9735-064ec10e5114 Index with capacity 100 and 100 current entries cannot add 1 records\n"
     ]
    }
   ],
   "source": [
    "start_id = 0\n",
    "embeddings_dir = 'D:/embeddings/'\n",
    "for file in os.listdir(embeddings_dir):\n",
    "    print(file)\n",
    "    if file.startswith('embeddings_'+blip_2_model+'_multimodal'):\n",
    "        start_id = embed_multimodal(collection, embeddings_dir + file, start_id)"
   ]
  },
  {
   "cell_type": "code",
   "execution_count": null,
   "metadata": {},
   "outputs": [],
   "source": [
    "collection = client.create_collection(name=\"blip_2_\"+blip_2_model+'_text')"
   ]
  },
  {
   "cell_type": "code",
   "execution_count": null,
   "metadata": {},
   "outputs": [],
   "source": [
    "def embed_text(collection, file, start_id):\n",
    "    batch_size = 2000\n",
    "    embeddings_df = pd.read_pickle(file)\n",
    "    n_rows = len(embeddings_df)\n",
    "    n_batches = (n_rows-1)//batch_size + 1\n",
    "    for i in tqdm(range(n_batches)):\n",
    "        start = i * batch_size\n",
    "        end = min((i+1) * batch_size, n_rows)\n",
    "        embeddings = np.stack(embeddings_df.iloc[start:end]['embedding'])\n",
    "        embeddings = embeddings[:,:5,:]\n",
    "        embeddings = list(embeddings.reshape((len(embeddings), -1)))\n",
    "        metadatas = []\n",
    "        for i in range(start, end):\n",
    "            item_id = embeddings_df.loc[i, 'item_id']\n",
    "            metadatas.append({'item_id': item_id})\n",
    "        collection.add(embeddings=embeddings, metadatas=metadatas, ids=[str(i + start_id) for i in range(start, end)])\n",
    "    return end + start_id"
   ]
  },
  {
   "cell_type": "code",
   "execution_count": null,
   "metadata": {},
   "outputs": [],
   "source": [
    "start_id = 0\n",
    "embeddings_dir = 'D:/embeddings/'\n",
    "for file in os.listdir(embeddings_dir):\n",
    "    print(file)\n",
    "    if file.startswith('embeddings_'+blip_2_model+'_text'):\n",
    "        start_id = embed_text(collection, embeddings_dir + file, start_id)"
   ]
  },
  {
   "cell_type": "code",
   "execution_count": 4,
   "metadata": {},
   "outputs": [],
   "source": [
    "# collection = client.get_collection(name=\"blip_2_\"+blip_2_model)"
   ]
  },
  {
   "cell_type": "code",
   "execution_count": 11,
   "metadata": {},
   "outputs": [
    {
     "data": {
      "text/plain": [
       "{'ids': [['571195',\n",
       "   '571094',\n",
       "   '571178',\n",
       "   '571194',\n",
       "   '571175',\n",
       "   '571164',\n",
       "   '571115',\n",
       "   '571098',\n",
       "   '571134',\n",
       "   '571092',\n",
       "   '571062',\n",
       "   '571181',\n",
       "   '571113',\n",
       "   '571090',\n",
       "   '571099']],\n",
       " 'embeddings': None,\n",
       " 'documents': None,\n",
       " 'uris': None,\n",
       " 'data': None,\n",
       " 'metadatas': [[{'item_id': 'B08B1GPF45'},\n",
       "   {'item_id': 'B089ZRYCT9'},\n",
       "   {'item_id': 'B08B1832RW'},\n",
       "   {'item_id': 'B08DJXR1LR'},\n",
       "   {'item_id': 'B08B13CW15'},\n",
       "   {'item_id': 'B08DKVQRFJ'},\n",
       "   {'item_id': 'B08BJX637R'},\n",
       "   {'item_id': 'B08BJXS9KY'},\n",
       "   {'item_id': 'B08DTQVN7R'},\n",
       "   {'item_id': 'B08BJXC3DP'},\n",
       "   {'item_id': 'B08B12JRW4'},\n",
       "   {'item_id': 'B08BJXKCCL'},\n",
       "   {'item_id': 'B08DKT7QK3'},\n",
       "   {'item_id': 'B08DKVNXK8'},\n",
       "   {'item_id': 'B08FQYHVNJ'}]],\n",
       " 'distances': [[0.0,\n",
       "   10.761358261108398,\n",
       "   16.386934499279306,\n",
       "   22.819978855059706,\n",
       "   23.64416374343949,\n",
       "   24.726531129690464,\n",
       "   25.441836602259766,\n",
       "   26.24988555908203,\n",
       "   26.405441758722727,\n",
       "   26.522689819335938,\n",
       "   26.619218826293945,\n",
       "   27.60114738046725,\n",
       "   29.117994864930147,\n",
       "   29.151737213134766,\n",
       "   29.541845321655273]],\n",
       " 'included': [<IncludeEnum.distances: 'distances'>,\n",
       "  <IncludeEnum.metadatas: 'metadatas'>]}"
      ]
     },
     "execution_count": 11,
     "metadata": {},
     "output_type": "execute_result"
    }
   ],
   "source": [
    "# embedding_test = embeddings_df.loc[571195, 'embedding']\n",
    "# collection.query(query_embeddings=[embedding_test], include=[\"metadatas\", \"distances\"], n_results=15)"
   ]
  }
 ],
 "metadata": {
  "kernelspec": {
   "display_name": "shoptalk-py3-12-Bqkf-scA-py3.12",
   "language": "python",
   "name": "python3"
  },
  "language_info": {
   "codemirror_mode": {
    "name": "ipython",
    "version": 3
   },
   "file_extension": ".py",
   "mimetype": "text/x-python",
   "name": "python",
   "nbconvert_exporter": "python",
   "pygments_lexer": "ipython3",
   "version": "3.12.7"
  }
 },
 "nbformat": 4,
 "nbformat_minor": 2
}
