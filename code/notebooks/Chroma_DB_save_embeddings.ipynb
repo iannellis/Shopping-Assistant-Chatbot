{
 "cells": [
  {
   "cell_type": "markdown",
   "metadata": {},
   "source": [
    "## Save embeddings into a Chroma DB\n",
    "\n",
    "We save the image_id and item_id as metadata for easy access later.\n",
    "\n",
    "Uses Python 3.12 environment locally."
   ]
  },
  {
   "cell_type": "code",
   "execution_count": 1,
   "metadata": {},
   "outputs": [],
   "source": [
    "import chromadb\n",
    "import pandas as pd\n",
    "import numpy as np\n",
    "from tqdm import tqdm\n",
    "import os"
   ]
  },
  {
   "cell_type": "markdown",
   "metadata": {},
   "source": [
    "We have 4 versions of the BLIP-2 model, so we have separate embeddings for each of them."
   ]
  },
  {
   "cell_type": "code",
   "execution_count": 2,
   "metadata": {},
   "outputs": [],
   "source": [
    "blip_2_model = 'gs'"
   ]
  },
  {
   "cell_type": "code",
   "execution_count": 3,
   "metadata": {},
   "outputs": [],
   "source": [
    "client = chromadb.PersistentClient(path='D:/chroma')"
   ]
  },
  {
   "cell_type": "code",
   "execution_count": 4,
   "metadata": {},
   "outputs": [],
   "source": [
    "collection = client.create_collection(name=\"blip_2_\"+blip_2_model+'_multimodal')"
   ]
  },
  {
   "cell_type": "markdown",
   "metadata": {},
   "source": [
    "Chroma has a batch size limit due to the underlying sqlite database. Therefore, we need to add the embeddings in batches."
   ]
  },
  {
   "cell_type": "code",
   "execution_count": 5,
   "metadata": {},
   "outputs": [],
   "source": [
    "def embed_multimodal(collection, file, start_id):\n",
    "    batch_size = 4000\n",
    "    embeddings_df = pd.read_pickle(file)\n",
    "    n_rows = len(embeddings_df)\n",
    "    n_batches = (n_rows-1)//batch_size + 1\n",
    "    for i in tqdm(range(n_batches)):\n",
    "        start = i * batch_size\n",
    "        end = min((i+1) * batch_size, n_rows)\n",
    "        embeddings = np.stack(embeddings_df.iloc[start:end]['embedding'])\n",
    "        embeddings = embeddings[:,:4,:]\n",
    "        embeddings = list(embeddings.reshape((len(embeddings), -1)))\n",
    "        metadatas = []\n",
    "        for i in range(start, end):\n",
    "            image_id = embeddings_df.loc[i, 'image_id']\n",
    "            item_id = embeddings_df.loc[i, 'item_id']\n",
    "            metadatas.append({'image_id': image_id, 'item_id': item_id})\n",
    "        collection.add(embeddings=embeddings, metadatas=metadatas, ids=[str(i + start_id) for i in range(start, end)])\n",
    "    return end + start_id"
   ]
  },
  {
   "cell_type": "markdown",
   "metadata": {},
   "source": [
    "Load the multimodal embeddings created from the ABO dataset (code in Blip-2_embeddings)"
   ]
  },
  {
   "cell_type": "code",
   "execution_count": null,
   "metadata": {},
   "outputs": [
    {
     "name": "stdout",
     "output_type": "stream",
     "text": [
      "embeddings_gs_multimodal_1.pkl\n"
     ]
    },
    {
     "name": "stderr",
     "output_type": "stream",
     "text": [
      "  0%|          | 0/1 [00:00<?, ?it/s]"
     ]
    },
    {
     "name": "stderr",
     "output_type": "stream",
     "text": [
      "100%|██████████| 1/1 [00:00<00:00,  6.29it/s]\n"
     ]
    },
    {
     "name": "stdout",
     "output_type": "stream",
     "text": [
      "embeddings_gs_multimodal_1000.pkl\n"
     ]
    },
    {
     "name": "stderr",
     "output_type": "stream",
     "text": [
      "100%|██████████| 16/16 [02:42<00:00, 10.15s/it]\n"
     ]
    },
    {
     "name": "stdout",
     "output_type": "stream",
     "text": [
      "embeddings_gs_multimodal_1999.pkl\n"
     ]
    },
    {
     "name": "stderr",
     "output_type": "stream",
     "text": [
      "100%|██████████| 16/16 [03:06<00:00, 11.65s/it]\n"
     ]
    },
    {
     "name": "stdout",
     "output_type": "stream",
     "text": [
      "embeddings_gs_multimodal_2998.pkl\n"
     ]
    },
    {
     "name": "stderr",
     "output_type": "stream",
     "text": [
      "100%|██████████| 16/16 [03:20<00:00, 12.55s/it]\n"
     ]
    },
    {
     "name": "stdout",
     "output_type": "stream",
     "text": [
      "embeddings_gs_multimodal_3997.pkl\n"
     ]
    },
    {
     "name": "stderr",
     "output_type": "stream",
     "text": [
      "100%|██████████| 16/16 [03:34<00:00, 13.42s/it]\n"
     ]
    },
    {
     "name": "stdout",
     "output_type": "stream",
     "text": [
      "embeddings_gs_multimodal_4996.pkl\n"
     ]
    },
    {
     "name": "stderr",
     "output_type": "stream",
     "text": [
      "100%|██████████| 16/16 [03:49<00:00, 14.34s/it]\n"
     ]
    },
    {
     "name": "stdout",
     "output_type": "stream",
     "text": [
      "embeddings_gs_multimodal_5995.pkl\n"
     ]
    },
    {
     "name": "stderr",
     "output_type": "stream",
     "text": [
      "100%|██████████| 16/16 [04:04<00:00, 15.31s/it]\n"
     ]
    },
    {
     "name": "stdout",
     "output_type": "stream",
     "text": [
      "embeddings_gs_multimodal_6994.pkl\n"
     ]
    },
    {
     "name": "stderr",
     "output_type": "stream",
     "text": [
      "100%|██████████| 16/16 [04:23<00:00, 16.46s/it]\n"
     ]
    },
    {
     "name": "stdout",
     "output_type": "stream",
     "text": [
      "embeddings_gs_multimodal_7993.pkl\n"
     ]
    },
    {
     "name": "stderr",
     "output_type": "stream",
     "text": [
      "100%|██████████| 16/16 [04:35<00:00, 17.21s/it]\n"
     ]
    },
    {
     "name": "stdout",
     "output_type": "stream",
     "text": [
      "embeddings_gs_multimodal_8923.pkl\n"
     ]
    },
    {
     "name": "stderr",
     "output_type": "stream",
     "text": [
      "100%|██████████| 15/15 [04:27<00:00, 17.80s/it]\n"
     ]
    },
    {
     "name": "stdout",
     "output_type": "stream",
     "text": [
      "embeddings_gs_text_1000.pkl\n",
      "embeddings_gs_text_1500.pkl\n",
      "embeddings_gs_text_1877.pkl\n",
      "embeddings_gs_text_500.pkl\n",
      "old\n"
     ]
    }
   ],
   "source": [
    "start_id = 0\n",
    "embeddings_dir = 'D:/embeddings/'\n",
    "for file in os.listdir(embeddings_dir):\n",
    "    if file.startswith('embeddings_'+blip_2_model+'_multimodal'):\n",
    "        print(file)\n",
    "        # start_id to keep track of the ids (ints) used when adding to the database\n",
    "        start_id = embed_multimodal(collection, embeddings_dir + file, start_id)"
   ]
  },
  {
   "cell_type": "markdown",
   "metadata": {},
   "source": [
    "Load the text-only embeddings"
   ]
  },
  {
   "cell_type": "code",
   "execution_count": 7,
   "metadata": {},
   "outputs": [],
   "source": [
    "collection = client.create_collection(name=\"blip_2_\"+blip_2_model+'_text')"
   ]
  },
  {
   "cell_type": "code",
   "execution_count": 22,
   "metadata": {},
   "outputs": [],
   "source": [
    "def embed_text(collection, file, start_id):\n",
    "    batch_size = 2000\n",
    "    embeddings_df = pd.read_pickle(file)\n",
    "    n_rows = len(embeddings_df)\n",
    "    n_batches = (n_rows-1)//batch_size + 1\n",
    "    for i in tqdm(range(n_batches)):\n",
    "        start = i * batch_size\n",
    "        end = min((i+1) * batch_size, n_rows)\n",
    "        embeddings = []\n",
    "        metadatas = []\n",
    "        for i in range(start, end):\n",
    "            embeddings.append(embeddings_df.loc[i, 'embedding'][:2,:].reshape(-1))\n",
    "            item_id = embeddings_df.loc[i, 'item_id']\n",
    "            metadatas.append({'item_id': item_id})\n",
    "        collection.add(embeddings=embeddings, metadatas=metadatas, ids=[str(i + start_id) for i in range(start, end)])\n",
    "    return end + start_id"
   ]
  },
  {
   "cell_type": "code",
   "execution_count": null,
   "metadata": {},
   "outputs": [
    {
     "name": "stdout",
     "output_type": "stream",
     "text": [
      "embeddings_gs_text_1000.pkl\n"
     ]
    },
    {
     "name": "stderr",
     "output_type": "stream",
     "text": [
      "100%|██████████| 16/16 [00:55<00:00,  3.49s/it]\n"
     ]
    },
    {
     "name": "stdout",
     "output_type": "stream",
     "text": [
      "embeddings_gs_text_1500.pkl\n"
     ]
    },
    {
     "name": "stderr",
     "output_type": "stream",
     "text": [
      " 44%|████▍     | 7/16 [00:26<00:33,  3.77s/it]"
     ]
    }
   ],
   "source": [
    "start_id = 0\n",
    "embeddings_dir = 'D:/embeddings/'\n",
    "for file in os.listdir(embeddings_dir):\n",
    "    if file.startswith('embeddings_'+blip_2_model+'_text'):\n",
    "        print(file)\n",
    "        start_id = embed_text(collection, embeddings_dir + file, start_id)"
   ]
  }
 ],
 "metadata": {
  "kernelspec": {
   "display_name": "shoptalk-py3-12-Bqkf-scA-py3.12",
   "language": "python",
   "name": "python3"
  },
  "language_info": {
   "codemirror_mode": {
    "name": "ipython",
    "version": 3
   },
   "file_extension": ".py",
   "mimetype": "text/x-python",
   "name": "python",
   "nbconvert_exporter": "python",
   "pygments_lexer": "ipython3",
   "version": "3.12.7"
  }
 },
 "nbformat": 4,
 "nbformat_minor": 2
}
