{
 "cells": [
  {
   "cell_type": "markdown",
   "metadata": {},
   "source": [
    "## Save embeddings into a Chroma DB\n",
    "\n",
    "We save the image_id and item_id as metadata for easy access later."
   ]
  },
  {
   "cell_type": "code",
   "execution_count": 1,
   "metadata": {},
   "outputs": [],
   "source": [
    "import chromadb\n",
    "import pandas as pd\n",
    "import numpy as np\n",
    "from tqdm import tqdm"
   ]
  },
  {
   "cell_type": "markdown",
   "metadata": {},
   "source": [
    "We have 3 versions of the BLIP-2 model, so we have separate embeddings for each of them."
   ]
  },
  {
   "cell_type": "code",
   "execution_count": 2,
   "metadata": {},
   "outputs": [],
   "source": [
    "blip_2_model = 'pretrain'"
   ]
  },
  {
   "cell_type": "code",
   "execution_count": 3,
   "metadata": {},
   "outputs": [],
   "source": [
    "client = chromadb.PersistentClient(path='D:/chroma')"
   ]
  },
  {
   "cell_type": "code",
   "execution_count": 4,
   "metadata": {},
   "outputs": [],
   "source": [
    "collection = client.create_collection(name=\"blip_2_\"+blip_2_model)"
   ]
  },
  {
   "cell_type": "markdown",
   "metadata": {},
   "source": [
    "Load the embeddings created from the ABO dataset (code in Blip-2_embeddings)"
   ]
  },
  {
   "cell_type": "code",
   "execution_count": 4,
   "metadata": {},
   "outputs": [
    {
     "data": {
      "text/html": [
       "<div>\n",
       "<style scoped>\n",
       "    .dataframe tbody tr th:only-of-type {\n",
       "        vertical-align: middle;\n",
       "    }\n",
       "\n",
       "    .dataframe tbody tr th {\n",
       "        vertical-align: top;\n",
       "    }\n",
       "\n",
       "    .dataframe thead th {\n",
       "        text-align: right;\n",
       "    }\n",
       "</style>\n",
       "<table border=\"1\" class=\"dataframe\">\n",
       "  <thead>\n",
       "    <tr style=\"text-align: right;\">\n",
       "      <th></th>\n",
       "      <th>image_id</th>\n",
       "      <th>item_id</th>\n",
       "      <th>embedding</th>\n",
       "    </tr>\n",
       "  </thead>\n",
       "  <tbody>\n",
       "    <tr>\n",
       "      <th>0</th>\n",
       "      <td>81-DuD5XzmL</td>\n",
       "      <td>B0857LSVB7</td>\n",
       "      <td>[-0.4358139, -0.7983236, 0.45861137, -1.535490...</td>\n",
       "    </tr>\n",
       "    <tr>\n",
       "      <th>1</th>\n",
       "      <td>61+woWTqkwL</td>\n",
       "      <td>B0857LSVB7</td>\n",
       "      <td>[-0.29962516, -0.45568618, 0.20228578, -0.1655...</td>\n",
       "    </tr>\n",
       "    <tr>\n",
       "      <th>2</th>\n",
       "      <td>61SE4RTPjdL</td>\n",
       "      <td>B0857LSVB7</td>\n",
       "      <td>[-0.374703, -0.43819726, 0.14495471, -0.064711...</td>\n",
       "    </tr>\n",
       "    <tr>\n",
       "      <th>3</th>\n",
       "      <td>81YCp3dcurL</td>\n",
       "      <td>B07C5FF8QS</td>\n",
       "      <td>[0.43136543, -1.4675522, 0.37719846, -1.568843...</td>\n",
       "    </tr>\n",
       "    <tr>\n",
       "      <th>4</th>\n",
       "      <td>817GQ6xx-QL</td>\n",
       "      <td>B07C5FF8QS</td>\n",
       "      <td>[0.9552257, -0.7680965, 0.37860662, -0.7980015...</td>\n",
       "    </tr>\n",
       "    <tr>\n",
       "      <th>...</th>\n",
       "      <td>...</td>\n",
       "      <td>...</td>\n",
       "      <td>...</td>\n",
       "    </tr>\n",
       "    <tr>\n",
       "      <th>571191</th>\n",
       "      <td>NaN</td>\n",
       "      <td>B08DKX14VY</td>\n",
       "      <td>[0.08170852, 0.00392688, 0.102035984, -0.38783...</td>\n",
       "    </tr>\n",
       "    <tr>\n",
       "      <th>571192</th>\n",
       "      <td>NaN</td>\n",
       "      <td>B08BJXKDD2</td>\n",
       "      <td>[0.27779222, 0.31448266, 0.14933139, -0.330696...</td>\n",
       "    </tr>\n",
       "    <tr>\n",
       "      <th>571193</th>\n",
       "      <td>NaN</td>\n",
       "      <td>B08FMKVLJ3</td>\n",
       "      <td>[0.06593654, 0.0071030296, 0.09782801, -0.4232...</td>\n",
       "    </tr>\n",
       "    <tr>\n",
       "      <th>571194</th>\n",
       "      <td>NaN</td>\n",
       "      <td>B08DJXR1LR</td>\n",
       "      <td>[0.19332173, 0.19885169, 0.09635306, -0.443597...</td>\n",
       "    </tr>\n",
       "    <tr>\n",
       "      <th>571195</th>\n",
       "      <td>NaN</td>\n",
       "      <td>B08B1GPF45</td>\n",
       "      <td>[0.15188746, 0.11305833, -0.030216953, -0.5894...</td>\n",
       "    </tr>\n",
       "  </tbody>\n",
       "</table>\n",
       "<p>571196 rows × 3 columns</p>\n",
       "</div>"
      ],
      "text/plain": [
       "           image_id     item_id  \\\n",
       "0       81-DuD5XzmL  B0857LSVB7   \n",
       "1       61+woWTqkwL  B0857LSVB7   \n",
       "2       61SE4RTPjdL  B0857LSVB7   \n",
       "3       81YCp3dcurL  B07C5FF8QS   \n",
       "4       817GQ6xx-QL  B07C5FF8QS   \n",
       "...             ...         ...   \n",
       "571191          NaN  B08DKX14VY   \n",
       "571192          NaN  B08BJXKDD2   \n",
       "571193          NaN  B08FMKVLJ3   \n",
       "571194          NaN  B08DJXR1LR   \n",
       "571195          NaN  B08B1GPF45   \n",
       "\n",
       "                                                embedding  \n",
       "0       [-0.4358139, -0.7983236, 0.45861137, -1.535490...  \n",
       "1       [-0.29962516, -0.45568618, 0.20228578, -0.1655...  \n",
       "2       [-0.374703, -0.43819726, 0.14495471, -0.064711...  \n",
       "3       [0.43136543, -1.4675522, 0.37719846, -1.568843...  \n",
       "4       [0.9552257, -0.7680965, 0.37860662, -0.7980015...  \n",
       "...                                                   ...  \n",
       "571191  [0.08170852, 0.00392688, 0.102035984, -0.38783...  \n",
       "571192  [0.27779222, 0.31448266, 0.14933139, -0.330696...  \n",
       "571193  [0.06593654, 0.0071030296, 0.09782801, -0.4232...  \n",
       "571194  [0.19332173, 0.19885169, 0.09635306, -0.443597...  \n",
       "571195  [0.15188746, 0.11305833, -0.030216953, -0.5894...  \n",
       "\n",
       "[571196 rows x 3 columns]"
      ]
     },
     "execution_count": 4,
     "metadata": {},
     "output_type": "execute_result"
    }
   ],
   "source": [
    "embeddings_df = pd.read_pickle('D:/embeddings/embeddings_'+blip_2_model+'.pkl')\n",
    "embeddings_df"
   ]
  },
  {
   "cell_type": "markdown",
   "metadata": {},
   "source": [
    "Chroma has a batch size limit due to the underlying sqlite database. Therefore, we need to add the embeddings in batches."
   ]
  },
  {
   "cell_type": "code",
   "execution_count": 6,
   "metadata": {},
   "outputs": [
    {
     "name": "stderr",
     "output_type": "stream",
     "text": [
      "100%|██████████| 105/105 [10:20<00:00,  5.91s/it]\n"
     ]
    }
   ],
   "source": [
    "batch_size = client.get_max_batch_size()\n",
    "n_rows = len(embeddings_df)\n",
    "n_batches = (n_rows-1)//batch_size + 1\n",
    "for i in tqdm(range(n_batches)):\n",
    "    start = i * batch_size\n",
    "    end = min((i+1) * batch_size, n_rows)\n",
    "    embeddings = np.stack(embeddings_df.loc[start:end-1, 'embedding'])\n",
    "    metadatas = []\n",
    "    for i in range(start, end):\n",
    "        image_id = embeddings_df.loc[i, 'image_id']\n",
    "        item_id = embeddings_df.loc[i, 'item_id']\n",
    "        metadatas.append({'image_id': image_id, 'item_id': item_id})\n",
    "    collection.add(embeddings=embeddings, metadatas=metadatas, ids=[str(i) for i in range(start, end)])"
   ]
  },
  {
   "cell_type": "code",
   "execution_count": 5,
   "metadata": {},
   "outputs": [],
   "source": [
    "collection = client.get_collection(name=\"blip_2_\"+blip_2_model)"
   ]
  },
  {
   "cell_type": "code",
   "execution_count": 6,
   "metadata": {},
   "outputs": [
    {
     "data": {
      "text/plain": [
       "{'ids': [['571195',\n",
       "   '571094',\n",
       "   '571178',\n",
       "   '571175',\n",
       "   '571151',\n",
       "   '571062',\n",
       "   '571102',\n",
       "   '571194',\n",
       "   '571099',\n",
       "   '571092']],\n",
       " 'embeddings': None,\n",
       " 'documents': None,\n",
       " 'uris': None,\n",
       " 'data': None,\n",
       " 'metadatas': [[{'item_id': 'B08B1GPF45'},\n",
       "   {'item_id': 'B089ZRYCT9'},\n",
       "   {'item_id': 'B08B1832RW'},\n",
       "   {'item_id': 'B08B13CW15'},\n",
       "   {'item_id': 'B08B18RYH7'},\n",
       "   {'item_id': 'B08B12JRW4'},\n",
       "   {'item_id': 'B08DKRGCG1'},\n",
       "   {'item_id': 'B08DJXR1LR'},\n",
       "   {'item_id': 'B08FQYHVNJ'},\n",
       "   {'item_id': 'B08BJXC3DP'}]],\n",
       " 'distances': [[0.0,\n",
       "   1.6682718992233276,\n",
       "   2.760481762637771,\n",
       "   4.759489253638559,\n",
       "   4.982717653424928,\n",
       "   5.186148166656494,\n",
       "   5.457234609832796,\n",
       "   6.416917054983525,\n",
       "   6.617886066436768,\n",
       "   6.948668956756592]],\n",
       " 'included': [<IncludeEnum.distances: 'distances'>,\n",
       "  <IncludeEnum.metadatas: 'metadatas'>]}"
      ]
     },
     "execution_count": 6,
     "metadata": {},
     "output_type": "execute_result"
    }
   ],
   "source": [
    "embedding_test = embeddings_df.loc[571195, 'embedding']\n",
    "collection.query(query_embeddings=[embedding_test], include=[\"metadatas\", \"distances\"])"
   ]
  }
 ],
 "metadata": {
  "kernelspec": {
   "display_name": "shoptalk-py3-12-Bqkf-scA-py3.12",
   "language": "python",
   "name": "python3"
  },
  "language_info": {
   "codemirror_mode": {
    "name": "ipython",
    "version": 3
   },
   "file_extension": ".py",
   "mimetype": "text/x-python",
   "name": "python",
   "nbconvert_exporter": "python",
   "pygments_lexer": "ipython3",
   "version": "3.12.7"
  }
 },
 "nbformat": 4,
 "nbformat_minor": 2
}
