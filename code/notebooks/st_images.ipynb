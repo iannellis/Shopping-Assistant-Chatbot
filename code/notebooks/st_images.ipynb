{
  "nbformat": 4,
  "nbformat_minor": 0,
  "metadata": {
    "colab": {
      "provenance": []
    },
    "kernelspec": {
      "name": "python3",
      "display_name": "Python 3"
    },
    "language_info": {
      "name": "python"
    }
  },
  "cells": [
    {
      "cell_type": "code",
      "execution_count": 33,
      "metadata": {
        "id": "hjsJXpEZwF88",
        "colab": {
          "base_uri": "https://localhost:8080/"
        },
        "outputId": "6d20e047-82a7-4f2f-9cb0-d8767f5e3cc1"
      },
      "outputs": [
        {
          "output_type": "stream",
          "name": "stdout",
          "text": [
            "Collecting pympler\n",
            "  Downloading Pympler-1.1-py3-none-any.whl.metadata (3.6 kB)\n",
            "Downloading Pympler-1.1-py3-none-any.whl (165 kB)\n",
            "\u001b[?25l   \u001b[90m━━━━━━━━━━━━━━━━━━━━━━━━━━━━━━━━━━━━━━━━\u001b[0m \u001b[32m0.0/165.8 kB\u001b[0m \u001b[31m?\u001b[0m eta \u001b[36m-:--:--\u001b[0m\r\u001b[2K   \u001b[90m━━━━━━━━━━━━━━━━━━━━━━━━━━━━━━━━━━━━━━━━\u001b[0m \u001b[32m165.8/165.8 kB\u001b[0m \u001b[31m7.0 MB/s\u001b[0m eta \u001b[36m0:00:00\u001b[0m\n",
            "\u001b[?25hInstalling collected packages: pympler\n",
            "Successfully installed pympler-1.1\n"
          ]
        }
      ],
      "source": [
        "!pip install pympler\n",
        "\n",
        "\n"
      ]
    },
    {
      "cell_type": "code",
      "source": [
        "import pandas as pd\n",
        "import sys\n",
        "from pympler import asizeof\n",
        "\n",
        "class ABOImages:\n",
        "    def __init__(self, storage_type, image_csv_path, prefix):\n",
        "        self.storage_type = storage_type\n",
        "        self.image_csv_path = image_csv_path\n",
        "        self.prefix = prefix\n",
        "        self.id_to_path = {}\n",
        "        self.id_to_height = {}\n",
        "        self.id_to_width = {}\n",
        "\n",
        "    def load(self):\n",
        "        df = pd.read_csv(self.image_csv_path)\n",
        "        self.process(df)\n",
        "\n",
        "    def load_csv(self):\n",
        "        df = pd.read_csv(self.image_csv_path)\n",
        "        print('Size of Images CSV file contents in memory is {} KB'.format(asizeof.asizeof(df)/1000))\n",
        "        return df\n",
        "\n",
        "    def process(self, df):\n",
        "        #df = self.load_csv()\n",
        "        for index, row in df.iterrows():\n",
        "            self.id_to_path[row['image_id']] = row['path']\n",
        "            self.id_to_height[row['image_id']] = row['height']\n",
        "            self.id_to_width[row['image_id']] = row['width']\n",
        "\n",
        "        print('Size of Image id to path dict is {} KB'.format(asizeof.asizeof(self.id_to_path)/1000))\n",
        "        print('Size of Image id to height dict is {} KB'.format(asizeof.asizeof(self.id_to_height)/1000))\n",
        "        print('Size of Image id to width dict is {} KB'.format(asizeof.asizeof(self.id_to_width)/1000))\n",
        "\n",
        "    def get_image_path(self, image_id):\n",
        "        if image_id not in self.id_to_path:\n",
        "            return None\n",
        "\n",
        "        if self.prefix is None:\n",
        "            return self.id_to_path[image_id]\n",
        "\n",
        "        return self.prefix + '/' + self.id_to_path[image_id]\n",
        "\n",
        "    def get_image_height(self, image_id):\n",
        "        return self.id_to_height[image_id]\n",
        "\n",
        "\n",
        "    def get_image_width(self, image_id):\n",
        "        return self.id_to_width[image_id]\n",
        "\n",
        "\n",
        "    def test_data(self):\n",
        "      col_names =  ['image_id', 'height', 'width', 'path']\n",
        "      test_df  = pd.DataFrame(columns = col_names)\n",
        "      test_dic = {'image_id': '01dkn0Gyx0L' ,'height':122, 'width': 122, 'path': 'da/daab0cad.jpg'}\n",
        "      test_df.loc[len(test_df)] = test_dic\n",
        "      test_dic = {'image_id': '01sUPg0387L' ,'height':111, 'width': 111, 'path': 'd2/d2daaae9.jpg'}\n",
        "      test_df.loc[len(test_df)] = test_dic\n",
        "      test_dic = {'image_id': '11X4pFHqYOL,' ,'height':35, 'width': 100, 'path': '20/20098c4d.jpg'}\n",
        "      test_df.loc[len(test_df)] = test_dic\n",
        "\n",
        "      print(\"Size of the images CSV in memory: {} KB\".format(asizeof.asizeof(test_df)/1000))\n",
        "\n",
        "      return test_df\n",
        "\n",
        "\n",
        "    def test(self):\n",
        "      print('test')\n",
        "      df = self.test_data()\n",
        "      print(df)\n",
        "      self.process(df)\n",
        "      print(self.get_image_path('01dkn0Gyx0L'))\n",
        "      print(self.get_image_height('01dkn0Gyx0L'))\n",
        "      print(self.get_image_width('01dkn0Gyx0L'))\n",
        "\n",
        "\n"
      ],
      "metadata": {
        "id": "U3tKaYDHEWpe"
      },
      "execution_count": 54,
      "outputs": []
    },
    {
      "cell_type": "code",
      "source": [
        "a = ABOImages('googledrive', 'test.csv', 'test')\n",
        "a.test()\n",
        "print('Size of TEST Object is {} KB'.format(asizeof.asizeof(a)/1000))"
      ],
      "metadata": {
        "colab": {
          "base_uri": "https://localhost:8080/"
        },
        "id": "l11m73WwMdPc",
        "outputId": "507241f9-4f01-4e75-a92a-b5865aa44129"
      },
      "execution_count": 55,
      "outputs": [
        {
          "output_type": "stream",
          "name": "stdout",
          "text": [
            "test\n",
            "Size of the images CSV in memory: 10.192 KB\n",
            "       image_id  height  width             path\n",
            "0   01dkn0Gyx0L     122    122  da/daab0cad.jpg\n",
            "1   01sUPg0387L     111    111  d2/d2daaae9.jpg\n",
            "2  11X4pFHqYOL,      35    100  20/20098c4d.jpg\n",
            "Size of Image id to path dict is 0.616 KB\n",
            "Size of Image id to height dict is 0.52 KB\n",
            "Size of Image id to width dict is 0.52 KB\n",
            "test/da/daab0cad.jpg\n",
            "122\n",
            "122\n",
            "Size of TEST Object is 1.96 KB\n"
          ]
        }
      ]
    },
    {
      "cell_type": "code",
      "source": [
        "from google.colab import drive\n",
        "drive.mount('/content/drive')"
      ],
      "metadata": {
        "colab": {
          "base_uri": "https://localhost:8080/"
        },
        "id": "gIMm3498U38o",
        "outputId": "f5c5c799-d012-433d-9fe3-43be6d2a93fd"
      },
      "execution_count": 21,
      "outputs": [
        {
          "output_type": "stream",
          "name": "stdout",
          "text": [
            "Drive already mounted at /content/drive; to attempt to forcibly remount, call drive.mount(\"/content/drive\", force_remount=True).\n"
          ]
        }
      ]
    },
    {
      "cell_type": "code",
      "source": [
        "b = ABOImages('gd', '/content/drive/MyDrive/ik-ml/capstone/data/abo-images-small/images/metadata/images.csv/images.csv', 'test')\n",
        "print('Size of Initial Images Object is {} KB'.format(asizeof.asizeof(b)/1000))"
      ],
      "metadata": {
        "id": "E7DdSxuvVN9L",
        "colab": {
          "base_uri": "https://localhost:8080/"
        },
        "outputId": "42746db4-85db-4421-df04-9b0cd002b963"
      },
      "execution_count": 64,
      "outputs": [
        {
          "output_type": "stream",
          "name": "stdout",
          "text": [
            "Size of Initial Images Object is 1.024 KB\n"
          ]
        }
      ]
    },
    {
      "cell_type": "code",
      "source": [
        "b.load()\n",
        "print('Size of LOADED Images Object is {} KB'.format(asizeof.asizeof(b)/1000))"
      ],
      "metadata": {
        "id": "LZCpeElkV5Nz",
        "colab": {
          "base_uri": "https://localhost:8080/"
        },
        "outputId": "8f5ee26f-3806-40f1-a96a-b3cbd453923b"
      },
      "execution_count": 65,
      "outputs": [
        {
          "output_type": "stream",
          "name": "stdout",
          "text": [
            "Size of Image id to path dict is 71942.744 KB\n",
            "Size of Image id to height dict is 59128.152 KB\n",
            "Size of Image id to width dict is 59183.448 KB\n",
            "Size of LOADED Images Object is 139279.336 KB\n"
          ]
        }
      ]
    },
    {
      "cell_type": "code",
      "source": [
        "b.get_image_path('01sUPg0387L')"
      ],
      "metadata": {
        "colab": {
          "base_uri": "https://localhost:8080/",
          "height": 36
        },
        "id": "xXuLv0kpW5A3",
        "outputId": "1b90d65a-8d7c-4e20-e20d-7c82628e1a8f"
      },
      "execution_count": 66,
      "outputs": [
        {
          "output_type": "execute_result",
          "data": {
            "text/plain": [
              "'test/d2/d2daaae9.jpg'"
            ],
            "application/vnd.google.colaboratory.intrinsic+json": {
              "type": "string"
            }
          },
          "metadata": {},
          "execution_count": 66
        }
      ]
    }
  ]
}